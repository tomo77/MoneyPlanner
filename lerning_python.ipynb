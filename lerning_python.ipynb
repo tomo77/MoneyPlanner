{
  "nbformat": 4,
  "nbformat_minor": 0,
  "metadata": {
    "colab": {
      "provenance": [],
      "authorship_tag": "ABX9TyPqF6ayJpJ3AxqdE/yKEoyj",
      "include_colab_link": true
    },
    "kernelspec": {
      "name": "python3",
      "display_name": "Python 3"
    },
    "language_info": {
      "name": "python"
    }
  },
  "cells": [
    {
      "cell_type": "markdown",
      "metadata": {
        "id": "view-in-github",
        "colab_type": "text"
      },
      "source": [
        "<a href=\"https://colab.research.google.com/github/tomo77/MoneyPlanner/blob/main/lerning_python.ipynb\" target=\"_parent\"><img src=\"https://colab.research.google.com/assets/colab-badge.svg\" alt=\"Open In Colab\"/></a>"
      ]
    },
    {
      "cell_type": "code",
      "execution_count": 1,
      "metadata": {
        "id": "suE5OgIpOF49"
      },
      "outputs": [],
      "source": [
        "class SampleClass:\n",
        "  def __init__(self, data1, data2):\n",
        "    self.data1 = data1\n",
        "    self.data2 = data2\n",
        "\n",
        "  def method2(self):\n",
        "    return self.data1 + self.data2\n",
        "\n"
      ]
    }
  ]
}